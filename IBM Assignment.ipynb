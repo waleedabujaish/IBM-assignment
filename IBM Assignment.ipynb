{
 "cells": [
  {
   "cell_type": "markdown",
   "id": "d90f39bf",
   "metadata": {},
   "source": [
    "# My Jupyter Notebook on IBM Watson Studio"
   ]
  },
  {
   "cell_type": "markdown",
   "id": "acbd29b4",
   "metadata": {},
   "source": [
    "**Waleed abujaish**\n",
    "I am a data science student"
   ]
  },
  {
   "cell_type": "markdown",
   "id": "1ffafd98",
   "metadata": {},
   "source": [
    "*I am intrested in data science because I like how we can benifit from this huge raw data*"
   ]
  },
  {
   "cell_type": "markdown",
   "id": "15619871",
   "metadata": {},
   "source": [
    "<h3>The square root of 5 is :<h3>"
   ]
  },
  {
   "cell_type": "code",
   "execution_count": 1,
   "id": "8dcbeee9",
   "metadata": {},
   "outputs": [
    {
     "name": "stdout",
     "output_type": "stream",
     "text": [
      "25\n"
     ]
    }
   ],
   "source": [
    "print(5 * 5)"
   ]
  },
  {
   "cell_type": "markdown",
   "id": "2167e3f9",
   "metadata": {},
   "source": [
    "1. The First line\n",
    "    - The Second\n",
    "***\n",
    "| col 1 | col 2 | col 3 |\n",
    "| --- | --- | --- |\n",
    "| Waleed | Feras | Abujaish |\n",
    "\n"
   ]
  },
  {
   "cell_type": "code",
   "execution_count": null,
   "id": "246feeca",
   "metadata": {},
   "outputs": [],
   "source": []
  }
 ],
 "metadata": {
  "kernelspec": {
   "display_name": "Python 3",
   "language": "python",
   "name": "python3"
  },
  "language_info": {
   "codemirror_mode": {
    "name": "ipython",
    "version": 3
   },
   "file_extension": ".py",
   "mimetype": "text/x-python",
   "name": "python",
   "nbconvert_exporter": "python",
   "pygments_lexer": "ipython3",
   "version": "3.8.8"
  }
 },
 "nbformat": 4,
 "nbformat_minor": 5
}
